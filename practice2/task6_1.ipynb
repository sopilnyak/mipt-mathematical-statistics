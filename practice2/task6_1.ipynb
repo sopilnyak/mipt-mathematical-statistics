{
 "cells": [
  {
   "cell_type": "code",
   "execution_count": 6,
   "metadata": {
    "collapsed": false
   },
   "outputs": [],
   "source": [
    "import time\n",
    "\n",
    "def read_file(filename):\n",
    "    with open(filename, 'r') as file:\n",
    "        lines = list(map(float, file))\n",
    "    file.close()\n",
    "    return lines\n",
    "\n",
    "T_0 = 1\n",
    "T = 60\n",
    "\n",
    "# read from file\n",
    "lines = read_file('6_1.txt')\n",
    "lamb = lines[0]\n",
    "lines = lines[1:]\n",
    "servers = len(lines) # number of servers"
   ]
  },
  {
   "cell_type": "markdown",
   "metadata": {},
   "source": [
    "$$\\forall s < t \\; (N_t - N_s) ~{\\perp\\!\\!\\!\\perp}~ N_s) \\Rightarrow E(N_t - N_s ~\\rvert~ N_s) = E(N_t - N_s)$$\n",
    "\n",
    "Исходя из этого и учитывая то, что $N_t - N_s \\sim Pois(\\lambda(t - s))$, выведем формулу для $E(N_t ~\\rvert~ N_s)$:\n",
    "\n",
    "$$E(N_t ~\\rvert~ N_s) = E(N_t - N_s + N_s ~\\rvert~ N_s) = E(N_t - N_s) + E(N_s ~\\rvert~ N_s) = E(N_t - N_s) + N_s = \\lambda(t - s) + N_s$$"
   ]
  },
  {
   "cell_type": "markdown",
   "metadata": {},
   "source": [
    "Во входном файле хранятся моменты времени, в которые вышел из строя очередной сервер. Поэтому нужно посчитать для каждого момента времени i количество серверов, вышедших из строя к моменту времени i."
   ]
  },
  {
   "cell_type": "code",
   "execution_count": 8,
   "metadata": {
    "collapsed": false
   },
   "outputs": [
    {
     "name": "stdout",
     "output_type": "stream",
     "text": [
      "0 \t 21.720\n",
      "1 \t 21.358\n",
      "2 \t 20.996\n",
      "3 \t 20.634\n",
      "4 \t 20.272\n",
      "5 \t 19.910\n",
      "6 \t 20.548\n",
      "7 \t 20.186\n",
      "8 \t 19.824\n",
      "9 \t 19.462\n",
      "10 \t 19.100\n",
      "11 \t 18.738\n",
      "12 \t 18.376\n",
      "13 \t 19.014\n",
      "14 \t 19.652\n",
      "15 \t 20.290\n",
      "16 \t 19.928\n",
      "17 \t 20.566\n",
      "18 \t 21.204\n",
      "19 \t 21.842\n",
      "20 \t 21.480\n",
      "21 \t 21.118\n",
      "22 \t 20.756\n",
      "23 \t 20.394\n",
      "24 \t 20.032\n",
      "25 \t 19.670\n",
      "26 \t 20.308\n",
      "27 \t 19.946\n",
      "28 \t 19.584\n",
      "29 \t 19.222\n",
      "30 \t 20.860\n",
      "31 \t 21.498\n",
      "32 \t 21.136\n",
      "33 \t 21.774\n",
      "34 \t 21.412\n",
      "35 \t 21.050\n",
      "36 \t 22.688\n",
      "37 \t 23.326\n",
      "38 \t 23.964\n",
      "39 \t 25.602\n",
      "40 \t 26.240\n",
      "41 \t 27.878\n",
      "42 \t 27.516\n",
      "43 \t 27.154\n",
      "44 \t 27.792\n",
      "45 \t 28.430\n",
      "46 \t 28.068\n",
      "47 \t 28.706\n",
      "48 \t 28.344\n",
      "49 \t 28.982\n",
      "50 \t 28.620\n",
      "51 \t 28.258\n",
      "52 \t 27.896\n",
      "53 \t 28.534\n",
      "54 \t 28.172\n",
      "55 \t 28.810\n",
      "56 \t 29.448\n",
      "57 \t 29.086\n",
      "58 \t 28.724\n",
      "59 \t 28.362\n",
      "60 \t 28.000\n"
     ]
    }
   ],
   "source": [
    "# broken[i] - number of broken servers by time i\n",
    "broken = []\n",
    "for j in range(0, T_0 + T, T_0):\n",
    "    broken.append(len([i for i in lines if i <= j]))\n",
    "start_time = time.time()\n",
    "for i in range(0, T_0 + T, T_0):\n",
    "    print(i, \"\\t\", \"%.3f\" % (lamb * (T - i) + broken[i]))\n",
    "    time.sleep((start_time + (i + 1) * T_0 - time.time()))"
   ]
  }
 ],
 "metadata": {
  "kernelspec": {
   "display_name": "Python 3",
   "language": "python",
   "name": "python3"
  },
  "language_info": {
   "codemirror_mode": {
    "name": "ipython",
    "version": 3
   },
   "file_extension": ".py",
   "mimetype": "text/x-python",
   "name": "python",
   "nbconvert_exporter": "python",
   "pygments_lexer": "ipython3",
   "version": "3.4.2"
  }
 },
 "nbformat": 4,
 "nbformat_minor": 0
}
