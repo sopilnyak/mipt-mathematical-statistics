{
 "cells": [
  {
   "cell_type": "code",
   "execution_count": 128,
   "metadata": {
    "collapsed": false
   },
   "outputs": [],
   "source": [
    "%matplotlib inline\n",
    "\n",
    "import numpy as np\n",
    "import matplotlib.pyplot as plt\n",
    "from scipy.stats import gamma\n",
    "import time\n",
    "\n",
    "def read_file(filename):\n",
    "    with open(filename, 'r') as file:\n",
    "        lines = list(map(float, file))\n",
    "    file.close()\n",
    "    return lines\n",
    "\n",
    "T_0 = 1\n",
    "T = 60\n",
    "\n",
    "# read from file\n",
    "lines = read_file('6_1.txt')\n",
    "lines = lines[1:]\n",
    "servers = len(lines) # number of servers"
   ]
  },
  {
   "cell_type": "markdown",
   "metadata": {},
   "source": [
    "$$\\forall s < t \\; (N_t - N_s) ~{\\perp\\!\\!\\!\\perp}~ N_s \\Rightarrow E(N_t - N_s ~\\rvert~ N_s) = E(N_t - N_s)$$\n",
    "\n",
    "Исходя из этого и учитывая то, что $N_t - N_s \\sim Pois(\\lambda(t - s))$, выведем формулу для $E(N_t ~\\rvert~ N_s)$:\n",
    "\n",
    "$$E(N_t ~\\rvert~ N_s) = E(N_t - N_s + N_s ~\\rvert~ N_s) =$$\n",
    "\n",
    "$$= E(N_t - N_s) + E(N_s ~\\rvert~ N_s) = E(N_t - N_s) + N_s = \\lambda(t - s) + N_s$$"
   ]
  },
  {
   "cell_type": "markdown",
   "metadata": {},
   "source": [
    "Возьмем в качестве **априорного распределения** сопряженное распределение к экспоненциальному — $\\Gamma(k_0, \\theta_0)$. \n",
    "\n",
    "**Подберем его параметры.** Предположим, что $k_0 \\geq 2$. Тогда в окрестности какой-то точки, не равной нулю, вероятность будет больше, \n",
    "чем в остальных, а нам это не нужно, так как о параметре ничего неизвестно. Поэтому возьмем $k_0 = 1$.\n",
    "Параметр масштаба $\\theta_0$ возьмем равным 5 (чтобы скорость убывания \n",
    "функции была небольшой)."
   ]
  },
  {
   "cell_type": "code",
   "execution_count": 139,
   "metadata": {
    "collapsed": false
   },
   "outputs": [
    {
     "data": {
      "image/png": "[encoded data removed]",
      "text/plain": [
       "<matplotlib.figure.Figure at 0x7facde717828>"
      ]
     },
     "metadata": {},
     "output_type": "display_data"
    }
   ],
   "source": [
    "plt.figure(figsize=(14, 10))\n",
    "x_axis = np.arange(0, 30, 0.0005)\n",
    "plt.plot(x_axis, gamma.pdf(x_axis, a=1, scale=5), label='$\\\\Gamma(1, 5)$')\n",
    "plt.legend(fontsize=15)\n",
    "plt.show()"
   ]
  },
  {
   "cell_type": "markdown",
   "metadata": {},
   "source": [
    "**Байесовская оценка** равна:\n",
    "\n",
    "$$\\widehat{\\lambda} = \\frac{k_0 + n}{\\theta_0 + \\sum{X_i}}$$"
   ]
  },
  {
   "cell_type": "markdown",
   "metadata": {},
   "source": [
    "Во входном файле хранятся моменты времени, в которые вышел из строя очередной сервер. \n",
    "Сначала объединим события выхода из строя серверов и измерения количества вышедших из строя серверов в целочисленные\n",
    "моменты времени."
   ]
  },
  {
   "cell_type": "code",
   "execution_count": 142,
   "metadata": {
    "collapsed": false,
    "scrolled": false
   },
   "outputs": [
    {
     "name": "stdout",
     "output_type": "stream",
     "text": [
      "0 \t 12.000\n",
      "1 \t 11.800\n",
      "2 \t 11.600\n",
      "3 \t 11.400\n",
      "4 \t 11.200\n",
      "5 \t 11.000\n",
      "5.931 \t break\n",
      "6 \t 10.880\n",
      "7 \t 10.697\n",
      "8 \t 10.514\n",
      "9 \t 10.331\n",
      "10 \t 10.148\n",
      "11 \t 9.965\n",
      "12 \t 9.782\n",
      "12.152 \t break\n",
      "13 \t 10.221\n",
      "13.935 \t break\n",
      "14 \t 12.717\n",
      "14.31 \t break\n",
      "15 \t 15.652\n",
      "16 \t 15.393\n",
      "16.22 \t break\n",
      "17 \t 17.158\n",
      "17.207 \t break\n",
      "18 \t 19.239\n",
      "18.87 \t break\n",
      "19 \t 20.741\n",
      "20 \t 20.406\n",
      "21 \t 20.071\n",
      "22 \t 19.736\n",
      "23 \t 19.401\n",
      "24 \t 19.065\n",
      "25 \t 18.730\n",
      "25.318 \t break\n",
      "26 \t 18.093\n",
      "27 \t 17.796\n",
      "28 \t 17.499\n",
      "29 \t 17.202\n",
      "29.005 \t break\n",
      "29.947 \t break\n",
      "30 \t 19.443\n",
      "30.537 \t break\n",
      "31 \t 20.793\n",
      "32 \t 20.455\n",
      "32.412 \t break\n",
      "33 \t 21.382\n",
      "34 \t 21.035\n",
      "35 \t 20.687\n",
      "35.188 \t break\n",
      "35.784 \t break\n",
      "36 \t 22.827\n",
      "36.156 \t break\n",
      "37 \t 23.942\n",
      "37.552 \t break\n",
      "38 \t 24.789\n",
      "38.382 \t break\n",
      "38.531 \t break\n",
      "39 \t 27.166\n",
      "39.952 \t break\n",
      "40 \t 27.898\n",
      "40.02 \t break\n",
      "40.899 \t break\n",
      "41 \t 30.107\n",
      "42 \t 29.628\n",
      "43 \t 29.148\n",
      "43.623 \t break\n",
      "44 \t 29.568\n",
      "44.231 \t break\n",
      "45 \t 30.312\n",
      "46 \t 29.825\n",
      "46.747 \t break\n",
      "47 \t 30.281\n",
      "48 \t 29.797\n",
      "48.603 \t break\n",
      "49 \t 30.336\n",
      "50 \t 29.850\n",
      "51 \t 29.365\n",
      "52 \t 28.880\n",
      "52.465 \t break\n",
      "53 \t 29.289\n",
      "54 \t 28.819\n",
      "54.013 \t break\n",
      "55 \t 29.372\n",
      "55.016 \t break\n",
      "56 \t 29.933\n",
      "57 \t 29.450\n",
      "58 \t 28.966\n",
      "59 \t 28.483\n",
      "60 \t 28.000\n"
     ]
    }
   ],
   "source": [
    "SECONDS = 60\n",
    "events = [(broken, 0) for broken in lines] + [(time, 1) \n",
    "                                              for time in range (SECONDS + 1)]\n",
    "events.sort()\n",
    "\n",
    "sample = []\n",
    "start_time = time.time()\n",
    "for event in events:\n",
    "    if event[1] == 0:\n",
    "        print(event[0], \"\\t\", \"break\")\n",
    "        sample.append(event[0] - np.sum(sample))\n",
    "    else:\n",
    "        lamb = (1 + len(sample)) / (5 + np.sum(sample))\n",
    "        print(event[0], \"\\t\", \"%.3f\" % (lamb * (T - event[0]) + len(sample)))\n",
    "    time.sleep((start_time + (event[0] + 1) * T_0 - time.time()))"
   ]
  }
 ],
 "metadata": {
  "kernelspec": {
   "display_name": "Python 3",
   "language": "python",
   "name": "python3"
  },
  "language_info": {
   "codemirror_mode": {
    "name": "ipython",
    "version": 3
   },
   "file_extension": ".py",
   "mimetype": "text/x-python",
   "name": "python",
   "nbconvert_exporter": "python",
   "pygments_lexer": "ipython3",
   "version": "3.4.2"
  }
 },
 "nbformat": 4,
 "nbformat_minor": 0
}
