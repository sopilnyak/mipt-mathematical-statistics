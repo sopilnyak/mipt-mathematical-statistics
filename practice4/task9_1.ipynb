{
 "cells": [
  {
   "cell_type": "code",
   "execution_count": 38,
   "metadata": {
    "collapsed": false
   },
   "outputs": [],
   "source": [
    "%matplotlib inline\n",
    "\n",
    "import numpy as np\n",
    "import random, csv\n",
    "from math import sqrt\n",
    "\n",
    "def read_file(filename):\n",
    "    with open(filename, 'r') as file:\n",
    "        lines = list(csv.reader(file))\n",
    "    return lines\n",
    "\n",
    "fires = read_file('forestfires.csv')"
   ]
  },
  {
   "cell_type": "markdown",
   "metadata": {},
   "source": [
    "Сделаем следующие **преобразования данных**:\n",
    "* уберем из рассмотрения поле day \n",
    "* добавим новую координату для свободного члена\n",
    "* переведем нечисловые координаты в числовые\n",
    "* перемешаем данные"
   ]
  },
  {
   "cell_type": "code",
   "execution_count": 39,
   "metadata": {
    "collapsed": false,
    "scrolled": false
   },
   "outputs": [],
   "source": [
    "fires = fires[1:]\n",
    "\n",
    "for fire in fires:\n",
    "    fire.pop(3) # remove day\n",
    "    fire.append(1.0) # add free term\n",
    "\n",
    "for i in range(len(fires)):\n",
    "    fires[i][2] = 1.0 if fires[i][2] in ['jun', 'jul', 'aug'] else 0.0\n",
    "    fires[i] = [float(number) for number in fires[i]]\n",
    "\n",
    "random.shuffle(fires)"
   ]
  },
  {
   "cell_type": "markdown",
   "metadata": {},
   "source": [
    "Разобьем данные в соотношении 7:3. **Построим регрессионную модель**, применим модель ко второй части выборки и посчитаем\n",
    "среднеквадратичную ошибку.\n",
    "\n",
    "Далее применим к координате area преобразование  $f(x) = ln(c+x)$ для различных $c$. Посчитаем среднеквадратичную ошибку для преобразованных и для исходных значений."
   ]
  },
  {
   "cell_type": "code",
   "execution_count": 40,
   "metadata": {
    "collapsed": false,
    "scrolled": false
   },
   "outputs": [
    {
     "name": "stdout",
     "output_type": "stream",
     "text": [
      "x: 37.2429 \n",
      "\n",
      "Преобразованных ln(1 + x): 0.6447\n",
      "Исходных к ln(1 + x): 34.6908\n",
      "\n",
      "\n",
      "Преобразованных ln(11 + x): 0.0430\n",
      "Исходных к ln(11 + x): 34.2242\n",
      "\n",
      "\n",
      "Преобразованных ln(21 + x): 0.0186\n",
      "Исходных к ln(21 + x): 34.1487\n",
      "\n",
      "\n",
      "Преобразованных ln(31 + x): 0.0109\n",
      "Исходных к ln(31 + x): 34.1387\n",
      "\n",
      "\n",
      "Преобразованных ln(41 + x): 0.0073\n",
      "Исходных к ln(41 + x): 34.1539\n",
      "\n",
      "\n",
      "Преобразованных ln(51 + x): 0.0053\n",
      "Исходных к ln(51 + x): 34.1809\n",
      "\n",
      "\n",
      "Преобразованных ln(61 + x): 0.0040\n",
      "Исходных к ln(61 + x): 34.2141\n",
      "\n",
      "\n",
      "Преобразованных ln(71 + x): 0.0032\n",
      "Исходных к ln(71 + x): 34.2504\n",
      "\n",
      "\n",
      "Преобразованных ln(81 + x): 0.0026\n",
      "Исходных к ln(81 + x): 34.2882\n",
      "\n",
      "\n",
      "Преобразованных ln(91 + x): 0.0022\n",
      "Исходных к ln(91 + x): 34.3266\n",
      "\n",
      "\n"
     ]
    }
   ],
   "source": [
    "def standart_deviation(function, sd_function):\n",
    "    learn = fires[:(len(fires) * 7 // 10)]\n",
    "    z_learn = np.matrix([fire[:-2] + fire[-1:] for fire in learn]) # [-2] - area\n",
    "    x_learn = np.matrix([function(fire[-2]) for fire in learn]).transpose()\n",
    "    theta_ls = np.linalg.inv(\n",
    "        z_learn.transpose() * z_learn) * z_learn.transpose() * x_learn\n",
    "    \n",
    "    test = fires[(len(fires) * 7 // 10):]\n",
    "    z_test = np.matrix([fire[:-2] + fire[-1:] for fire in test])\n",
    "    x_test = np.matrix([function(fire[-2]) for fire in test]).transpose()\n",
    "    result = z_test * theta_ls\n",
    "    \n",
    "    return sqrt(np.mean(np.array(\n",
    "            (sd_function(result) - sd_function(x_test)).transpose()[0]) ** 2))\n",
    "\n",
    "print(\"x:\", \"%.4f\" % standart_deviation(lambda x: x, lambda x: x), \"\\n\")\n",
    "for c in range(1, 100, 10):\n",
    "    print(\"Преобразованных ln(\" + str(c) + \" + x):\", \"%.4f\" % standart_deviation(\n",
    "            lambda x: np.log(c + x), lambda x: np.log(c + x)))\n",
    "    print(\"Исходных к ln(\" + str(c) + \" + x):\", \"%.4f\" % standart_deviation(\n",
    "            lambda x: np.log(c + x), lambda x: np.exp(x) - c))\n",
    "    print(\"\\n\")"
   ]
  },
  {
   "cell_type": "markdown",
   "metadata": {},
   "source": [
    "Видим, что и в случае без преобразования, и в случае с преобразованием среднеквадратичная ошибка велика, но при малых\n",
    "$c$ преобразование дает чуть лучшие предсказания.\n",
    "\n",
    "Найдем $c$, при котором **среднеквадратичное отклонение минимально**."
   ]
  },
  {
   "cell_type": "code",
   "execution_count": 41,
   "metadata": {
    "collapsed": false
   },
   "outputs": [
    {
     "name": "stdout",
     "output_type": "stream",
     "text": [
      "c = 27.6\n",
      "34.14\n"
     ]
    }
   ],
   "source": [
    "sd_array = [standart_deviation(lambda x: np.log(c + x), \n",
    "                               lambda x: np.exp(x) - c)\n",
    "            for c in np.arange(0.1, 100, 0.1)]\n",
    "cmin = np.argmin(sd_array) / 10 - 1\n",
    "print(\"c = \" + str(cmin))\n",
    "print(\"%.2f\" % sd_array[np.argmin(sd_array)])"
   ]
  },
  {
   "cell_type": "markdown",
   "metadata": {},
   "source": [
    "Теперь попробуем разбить выборку на части 7:3 **разными способами** при полученном выше $c$."
   ]
  },
  {
   "cell_type": "code",
   "execution_count": 42,
   "metadata": {
    "collapsed": false
   },
   "outputs": [
    {
     "name": "stdout",
     "output_type": "stream",
     "text": [
      "89.18\n",
      "24.50\n",
      "16.35\n",
      "66.10\n",
      "22.46\n",
      "87.47\n",
      "67.88\n",
      "21.92\n",
      "34.10\n",
      "89.24\n",
      "33.04\n",
      "25.41\n",
      "68.82\n",
      "28.57\n",
      "65.88\n",
      "91.69\n",
      "61.89\n",
      "93.29\n",
      "105.67\n",
      "23.38\n",
      "27.24\n",
      "38.21\n",
      "110.65\n",
      "105.76\n",
      "66.56\n",
      "91.33\n",
      "91.24\n",
      "88.39\n",
      "22.43\n",
      "25.01\n",
      "30.38\n",
      "27.14\n",
      "29.92\n",
      "24.37\n",
      "90.93\n",
      "62.95\n",
      "13.39\n",
      "20.32\n",
      "17.41\n",
      "31.75\n",
      "91.58\n",
      "109.14\n",
      "89.23\n",
      "20.87\n",
      "19.23\n",
      "18.35\n",
      "65.93\n",
      "27.05\n",
      "32.79\n",
      "64.19\n",
      "17.26\n",
      "30.22\n",
      "31.91\n",
      "21.55\n",
      "66.57\n",
      "108.12\n",
      "107.23\n",
      "31.23\n",
      "91.49\n",
      "28.09\n",
      "106.98\n",
      "66.12\n",
      "88.89\n",
      "91.75\n",
      "88.50\n",
      "19.59\n",
      "29.11\n",
      "89.63\n",
      "12.90\n",
      "29.82\n",
      "88.54\n",
      "65.46\n",
      "92.96\n",
      "27.34\n",
      "62.27\n",
      "108.59\n",
      "90.45\n",
      "20.99\n",
      "20.59\n",
      "64.12\n",
      "30.67\n",
      "63.42\n",
      "88.18\n",
      "25.47\n",
      "89.10\n",
      "89.05\n",
      "89.36\n",
      "26.10\n",
      "29.01\n",
      "15.10\n",
      "32.32\n",
      "28.54\n",
      "66.91\n",
      "88.83\n",
      "88.66\n",
      "30.00\n",
      "26.68\n",
      "88.54\n",
      "33.69\n",
      "89.83\n"
     ]
    }
   ],
   "source": [
    "for _ in range(100):\n",
    "    random.shuffle(fires)\n",
    "    print(\"%.2f\" % standart_deviation(lambda x: np.log(cmin + x), \n",
    "                       lambda x: np.exp(x) - cmin))"
   ]
  },
  {
   "cell_type": "markdown",
   "metadata": {},
   "source": [
    "Видим, что в любом случае среднеквадратичное отклонение велико. К тому же, среднеквадратичное отклонение очень сильно зависит от способа разбиения. Поэтому линейная регрессия работает плохо."
   ]
  }
 ],
 "metadata": {
  "kernelspec": {
   "display_name": "Python 3",
   "language": "python",
   "name": "python3"
  },
  "language_info": {
   "codemirror_mode": {
    "name": "ipython",
    "version": 3
   },
   "file_extension": ".py",
   "mimetype": "text/x-python",
   "name": "python",
   "nbconvert_exporter": "python",
   "pygments_lexer": "ipython3",
   "version": "3.4.2"
  }
 },
 "nbformat": 4,
 "nbformat_minor": 0
}
