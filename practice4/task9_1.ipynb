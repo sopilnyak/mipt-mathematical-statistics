{
 "cells": [
  {
   "cell_type": "code",
   "execution_count": 210,
   "metadata": {
    "collapsed": false
   },
   "outputs": [],
   "source": [
    "%matplotlib inline\n",
    "\n",
    "import numpy as np\n",
    "import random, csv\n",
    "\n",
    "def read_file(filename):\n",
    "    with open(filename, 'r') as file:\n",
    "        lines = list(csv.reader(file))\n",
    "    return lines\n",
    "\n",
    "fires = read_file('forestfires.csv')"
   ]
  },
  {
   "cell_type": "markdown",
   "metadata": {},
   "source": [
    "Сделаем следующие **преобразования данных**:\n",
    "* уберем из рассмотрения поле day \n",
    "* добавим новую координату для свободного члена\n",
    "* переведем нечисловые координаты в числовые\n",
    "* перемешаем данные"
   ]
  },
  {
   "cell_type": "code",
   "execution_count": 211,
   "metadata": {
    "collapsed": false,
    "scrolled": false
   },
   "outputs": [],
   "source": [
    "for fire in fires:\n",
    "    fire.pop(3) # remove day\n",
    "    fire.append(1.0) # add free term\n",
    "\n",
    "headings = fires[0]\n",
    "fires = fires[1:]\n",
    "for i in range(len(fires)):\n",
    "    fires[i][2] = 1.0 if fires[i][2] in ['jun', 'jul', 'aug'] else 0.0\n",
    "    fires[i] = [float(number) for number in fires[i]]\n",
    "\n",
    "random.shuffle(fires)"
   ]
  },
  {
   "cell_type": "markdown",
   "metadata": {},
   "source": [
    "Разобьем данные в соотношении 7:3. **Построим регрессионную модель**, применим модель ко второй части выборки и посчитаем\n",
    "среднеквадратичную ошибку.\n",
    "\n",
    "Далее применим к координате area преобразование  $f(x) = ln(c+x)$ для различных $c$. Посчитаем среднеквадратичную ошибку для преобразованных и для исходных значений."
   ]
  },
  {
   "cell_type": "code",
   "execution_count": 212,
   "metadata": {
    "collapsed": false,
    "scrolled": false
   },
   "outputs": [
    {
     "name": "stdout",
     "output_type": "stream",
     "text": [
      "x: 742.19 \n",
      "\n",
      "Преобразованных ln(1 + x): 0.411410026246\n",
      "Исходных к ln(1 + x): 695.194307521\n",
      "\n",
      "\n",
      "Преобразованных ln(11 + x): 0.00174292198762\n",
      "Исходных к ln(11 + x): 659.114833889\n",
      "\n",
      "\n",
      "Преобразованных ln(21 + x): 0.000324808484583\n",
      "Исходных к ln(21 + x): 653.620146896\n",
      "\n",
      "\n",
      "Преобразованных ln(31 + x): 0.000113268348522\n",
      "Исходных к ln(31 + x): 658.479220878\n",
      "\n",
      "\n",
      "Преобразованных ln(41 + x): 5.29398825432e-05\n",
      "Исходных к ln(41 + x): 671.847355029\n",
      "\n",
      "\n",
      "Преобразованных ln(51 + x): 2.94165718027e-05\n",
      "Исходных к ln(51 + x): 693.456270096\n",
      "\n",
      "\n",
      "Преобразованных ln(61 + x): 1.83325883485e-05\n",
      "Исходных к ln(61 + x): 723.428374703\n",
      "\n",
      "\n",
      "Преобразованных ln(71 + x): 1.23946529805e-05\n",
      "Исходных к ln(71 + x): 762.009033389\n",
      "\n",
      "\n",
      "Преобразованных ln(81 + x): 8.90272889171e-06\n",
      "Исходных к ln(81 + x): 809.482309703\n",
      "\n",
      "\n",
      "Преобразованных ln(91 + x): 6.69828724003e-06\n",
      "Исходных к ln(91 + x): 866.139783194\n",
      "\n",
      "\n"
     ]
    }
   ],
   "source": [
    "def standart_deviation(function, sd_function):\n",
    "    learn = fires[:(len(fires) * 7 // 10)]\n",
    "    z_learn = np.matrix([fire[:-2] for fire in learn])\n",
    "    x_learn = np.matrix([function(fire[-2]) for fire in learn]).transpose()\n",
    "    theta_ls = np.linalg.inv(\n",
    "        z_learn.transpose() * z_learn) * z_learn.transpose() * x_learn\n",
    "    \n",
    "    test = fires[(len(fires) * 7 // 10):]\n",
    "    z_test = np.matrix([fire[:-2] for fire in test]) # [-2] - area\n",
    "    x_test = np.matrix([function(x[-2]) for x in test]).transpose()\n",
    "    result = z_test * theta_ls\n",
    "    \n",
    "    return np.mean(np.array(\n",
    "            (sd_function(result) - sd_function(x_test)).transpose()[0]) ** 2)\n",
    "\n",
    "print(\"x:\", \"%.2f\" % standart_deviation(lambda x: x, lambda x: x), \"\\n\")\n",
    "for c in range(1, 100, 10):\n",
    "    print(\"Преобразованных ln(\" + str(c) + \" + x):\", standart_deviation(\n",
    "            lambda x: np.log(c + x), lambda x: np.log(c + x)))\n",
    "    print(\"Исходных к ln(\" + str(c) + \" + x):\", standart_deviation(\n",
    "            lambda x: np.log(c + x), lambda x: np.exp(x) - c))\n",
    "    print(\"\\n\")"
   ]
  },
  {
   "cell_type": "markdown",
   "metadata": {},
   "source": [
    "Видим, что и в случае без преобразования, и в случае с преобразованием среднеквадратичная ошибка велика, но при малых\n",
    "$c$ преобразование дает чуть лучшие предсказания.\n",
    "\n",
    "Найдем $c$, при котором **среднеквадратичное отклонение минимально**."
   ]
  },
  {
   "cell_type": "code",
   "execution_count": 213,
   "metadata": {
    "collapsed": false
   },
   "outputs": [
    {
     "name": "stdout",
     "output_type": "stream",
     "text": [
      "c = 19.6\n",
      "653.62\n"
     ]
    }
   ],
   "source": [
    "sd_array = [standart_deviation(lambda x: np.log(c + x), \n",
    "                               lambda x: np.exp(x) - c)\n",
    "            for c in np.arange(0.1, 100, 0.1)]\n",
    "cmin = np.argmin(sd_array) / 10 - 1\n",
    "print(\"c = \" + str(cmin))\n",
    "print(\"%.2f\" % sd_array[np.argmin(sd_array)])"
   ]
  },
  {
   "cell_type": "markdown",
   "metadata": {},
   "source": [
    "Теперь попробуем разбить выборку на части 7:3 **разными способами** при полученном выше $c$."
   ]
  },
  {
   "cell_type": "code",
   "execution_count": 214,
   "metadata": {
    "collapsed": false
   },
   "outputs": [
    {
     "name": "stdout",
     "output_type": "stream",
     "text": [
      "8095.55\n",
      "776.20\n",
      "7955.47\n",
      "1011.71\n",
      "8058.63\n",
      "680.42\n",
      "7914.64\n",
      "673.18\n",
      "1054.81\n",
      "485.54\n",
      "11854.04\n",
      "7788.14\n",
      "680.14\n",
      "516.30\n",
      "444.45\n",
      "496.28\n",
      "803.75\n",
      "458.81\n",
      "1192.65\n",
      "4278.92\n",
      "1038.36\n",
      "7924.90\n",
      "934.93\n",
      "8173.29\n",
      "8353.64\n",
      "945.45\n",
      "557.23\n",
      "8810.79\n",
      "205.30\n",
      "1188.97\n",
      "911.08\n",
      "604.42\n",
      "4203.67\n",
      "538.86\n",
      "11612.58\n",
      "1318.44\n",
      "900.33\n",
      "651.11\n",
      "634.27\n",
      "441.04\n",
      "8403.74\n",
      "11864.02\n",
      "498.41\n",
      "463.38\n",
      "11622.25\n",
      "1159.95\n",
      "8007.24\n",
      "170.17\n",
      "847.84\n",
      "4492.32\n",
      "8534.11\n",
      "183.00\n",
      "3956.16\n",
      "4276.56\n",
      "403.35\n",
      "935.53\n",
      "8636.16\n",
      "516.46\n",
      "11645.65\n",
      "11853.28\n",
      "465.04\n",
      "940.32\n",
      "444.93\n",
      "872.22\n",
      "351.17\n",
      "1145.90\n",
      "4596.43\n",
      "8072.43\n",
      "971.69\n",
      "790.32\n",
      "1174.93\n",
      "204.46\n",
      "4689.93\n",
      "634.77\n",
      "4091.76\n",
      "1271.88\n",
      "8589.94\n",
      "4133.30\n",
      "309.00\n",
      "4422.83\n",
      "144.53\n",
      "165.33\n",
      "8064.01\n",
      "1136.38\n",
      "725.30\n",
      "8201.78\n",
      "1001.35\n",
      "652.27\n",
      "11171.96\n",
      "4478.25\n",
      "973.83\n",
      "3917.28\n",
      "11415.62\n",
      "551.99\n",
      "891.26\n",
      "8646.80\n",
      "11982.32\n",
      "614.09\n",
      "414.38\n",
      "933.48\n"
     ]
    }
   ],
   "source": [
    "for _ in range(100):\n",
    "    random.shuffle(fires)\n",
    "    print(\"%.2f\" % standart_deviation(lambda x: np.log(cmin + x), \n",
    "                       lambda x: np.exp(x) - cmin))"
   ]
  },
  {
   "cell_type": "markdown",
   "metadata": {},
   "source": [
    "Видим, что в любом случае среднеквадратичное отклонение велико. К тому же, среднеквадратичное отклонение очень сильно зависит от способа разбиения. Поэтому линейная регрессия работает плохо."
   ]
  }
 ],
 "metadata": {
  "kernelspec": {
   "display_name": "Python 3",
   "language": "python",
   "name": "python3"
  },
  "language_info": {
   "codemirror_mode": {
    "name": "ipython",
    "version": 3
   },
   "file_extension": ".py",
   "mimetype": "text/x-python",
   "name": "python",
   "nbconvert_exporter": "python",
   "pygments_lexer": "ipython3",
   "version": "3.4.2"
  }
 },
 "nbformat": 4,
 "nbformat_minor": 0
}
