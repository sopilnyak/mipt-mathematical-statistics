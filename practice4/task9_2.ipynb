{
 "cells": [
  {
   "cell_type": "code",
   "execution_count": 2,
   "metadata": {
    "collapsed": true
   },
   "outputs": [],
   "source": [
    "%matplotlib inline\n",
    "\n",
    "import numpy as np"
   ]
  },
  {
   "cell_type": "markdown",
   "metadata": {},
   "source": [
    "В теоретической задаче мы получили следующие оценки:\n",
    "\n",
    "$$\\widehat{\\beta_1} = X_0$$\n",
    "$$\\widehat{\\beta_2} = \\frac{X_n - X_0}{n}$$\n",
    "$$\\widehat{\\sigma^2} = \\frac{1}{n-1} \\sum\\limits_{i=1}^n \\left( X_i - X_{i-1} - \\frac{X_n - X_0}{n} \\right)^2$$\n",
    "$$\\widehat{\\sigma_t^2} = \\frac{\\widehat{\\sigma^2}}{\\widehat{\\beta_2}^2}$$"
   ]
  },
  {
   "cell_type": "code",
   "execution_count": 16,
   "metadata": {
    "collapsed": false
   },
   "outputs": [
    {
     "name": "stdout",
     "output_type": "stream",
     "text": [
      "171.403048 9.618244866666666 0.231332660658 0.00250060614513\n"
     ]
    }
   ],
   "source": [
    "with open(\"9_2.txt\", 'r') as file:\n",
    "    sample = list(map(float, file))\n",
    "\n",
    "n = len(sample) - 1\n",
    "beta_1 = sample[0]\n",
    "beta_2 = (sample[-1] - sample[0]) / n\n",
    "sigma = np.sum([(sample[i] - sample[i - 1] - \n",
    "                 (sample[-1] - sample[0]) / n) ** 2 \n",
    "                for i in range(1, n + 1)]) / (n - 1)\n",
    "sigma_t = sigma / (beta_2 ** 2)\n",
    "\n",
    "print(beta_1, beta_2, sigma, sigma_t)"
   ]
  },
  {
   "cell_type": "markdown",
   "metadata": {},
   "source": [
    "Из полученных результатов видно, что для данной выборки линейная модель подходит. Это можно объяснить тем, что движение трамвая близко к равномерному, и скорость $\\beta_2$ можно адекватно оценить. Оценка начального расстояния $\\beta_1$ совпадает с показанием датчика в нулевой момент времени, что очень логично."
   ]
  }
 ],
 "metadata": {
  "kernelspec": {
   "display_name": "Python 3",
   "language": "python",
   "name": "python3"
  },
  "language_info": {
   "codemirror_mode": {
    "name": "ipython",
    "version": 3
   },
   "file_extension": ".py",
   "mimetype": "text/x-python",
   "name": "python",
   "nbconvert_exporter": "python",
   "pygments_lexer": "ipython3",
   "version": "3.4.2"
  }
 },
 "nbformat": 4,
 "nbformat_minor": 0
}
